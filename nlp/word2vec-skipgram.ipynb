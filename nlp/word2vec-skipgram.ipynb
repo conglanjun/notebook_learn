{
 "cells": [
  {
   "cell_type": "code",
   "execution_count": 10,
   "metadata": {},
   "outputs": [],
   "source": [
    "import numpy as np\n",
    "import torch\n",
    "import torch.nn as nn\n",
    "import torch.optim as optim\n",
    "import matplotlib.pyplot as plt\n",
    "device = torch.device('mps')"
   ]
  },
  {
   "cell_type": "code",
   "execution_count": 11,
   "metadata": {},
   "outputs": [],
   "source": [
    "def random_batch():\n",
    "    random_inputs = []\n",
    "    random_labels = []\n",
    "    random_index = np.random.choice(range(len(skip_grams)), batch_size, replace=False)\n",
    "\n",
    "    for i in random_index:\n",
    "        random_inputs.append(np.eye(voc_size)[skip_grams[i][0]])  # target\n",
    "        random_labels.append(skip_grams[i][1])  # context word\n",
    "\n",
    "    return random_inputs, random_labels"
   ]
  },
  {
   "cell_type": "code",
   "execution_count": 12,
   "metadata": {},
   "outputs": [],
   "source": [
    "class Word2Vec(nn.Module):\n",
    "    def __init__(self):\n",
    "        super(Word2Vec, self).__init__()\n",
    "        self.W = nn.Linear(voc_size, embedding_size, bias=False).to(device)\n",
    "        self.WT = nn.Linear(embedding_size, voc_size, bias=False).to(device)\n",
    "\n",
    "    def forward(self, X):\n",
    "        hidden_layer = self.W(X).to(device)\n",
    "        output_layer = self.WT(hidden_layer).to(device)\n",
    "        return output_layer"
   ]
  },
  {
   "cell_type": "code",
   "execution_count": 15,
   "metadata": {},
   "outputs": [
    {
     "name": "stdout",
     "output_type": "stream",
     "text": [
      "word_sequence:['apple', 'banana', 'fruit', 'banana', 'orange', 'fruit', 'orange', 'banana', 'fruit', 'dog', 'cat', 'animal', 'cat', 'monkey', 'animal', 'monkey', 'dog', 'animal']\n",
      "word_list:['banana', 'dog', 'animal', 'orange', 'cat', 'apple', 'monkey', 'fruit']\n",
      "word_dict:{'banana': 0, 'dog': 1, 'animal': 2, 'orange': 3, 'cat': 4, 'apple': 5, 'monkey': 6, 'fruit': 7}\n",
      "voc_size:8\n",
      "target:0\n",
      "target:7\n",
      "target:0\n",
      "target:3\n",
      "target:7\n",
      "target:3\n",
      "target:0\n",
      "target:7\n",
      "target:1\n",
      "target:4\n",
      "target:2\n",
      "target:4\n",
      "target:6\n",
      "target:2\n",
      "target:6\n",
      "target:1\n",
      "skip_grams:[[0, 5], [0, 7], [7, 0], [7, 0], [0, 7], [0, 3], [3, 0], [3, 7], [7, 3], [7, 3], [3, 7], [3, 0], [0, 3], [0, 7], [7, 0], [7, 1], [1, 7], [1, 4], [4, 1], [4, 2], [2, 4], [2, 4], [4, 2], [4, 6], [6, 4], [6, 2], [2, 6], [2, 6], [6, 2], [6, 1], [1, 6], [1, 2]]\n",
      "Epoch: 1000 cost = 1.845865\n",
      "Epoch: 2000 cost = 2.316225\n",
      "Epoch: 3000 cost = 0.841617\n",
      "Epoch: 4000 cost = 0.817318\n",
      "Epoch: 5000 cost = 1.132278\n"
     ]
    },
    {
     "data": {
      "image/png": "[encoded data removed]",
      "text/plain": [
       "<Figure size 640x480 with 1 Axes>"
      ]
     },
     "metadata": {},
     "output_type": "display_data"
    }
   ],
   "source": [
    "if __name__ == '__main__':\n",
    "    batch_size = 2\n",
    "    embedding_size = 2\n",
    "    sentences = [\"apple banana fruit\", \"banana orange fruit\", \"orange banana fruit\",\n",
    "                 \"dog cat animal\", \"cat monkey animal\", \"monkey dog animal\"]\n",
    "    word_sequence = \" \".join(sentences).split()\n",
    "    print(f'word_sequence:{word_sequence}')\n",
    "    word_list = \" \".join(sentences).split()\n",
    "    word_list = list(set(word_list))\n",
    "    print(f'word_list:{word_list}')\n",
    "    word_dict = {w: i for i, w in enumerate(word_list)}\n",
    "    print(f'word_dict:{word_dict}')\n",
    "    voc_size = len(word_list)\n",
    "    print(f'voc_size:{voc_size}')\n",
    "\n",
    "    skip_grams = []\n",
    "    for i in range(1, len(word_sequence) - 1):\n",
    "        target = word_dict[word_sequence[i]]\n",
    "        print(f'target:{target}')\n",
    "        context = [word_dict[word_sequence[i - 1]], word_dict[word_sequence[i + 1]]]\n",
    "        for w in context:\n",
    "            skip_grams.append([target, w])\n",
    "    print(f'skip_grams:{skip_grams}')\n",
    "\n",
    "    model = Word2Vec()\n",
    "\n",
    "    criterion = nn.CrossEntropyLoss()\n",
    "    optimizer = optim.Adam(model.parameters(), lr=0.001)\n",
    "\n",
    "    # Training\n",
    "    for epoch in range(5000):\n",
    "        input_batch, target_batch = random_batch()\n",
    "        input_batch = torch.Tensor(input_batch).to(device)\n",
    "        target_batch = torch.Tensor(target_batch).to(device)\n",
    "\n",
    "        optimizer.zero_grad()\n",
    "        output = model(input_batch)\n",
    "\n",
    "        loss = criterion(output, target_batch)\n",
    "        if (epoch + 1) % 1000 == 0:\n",
    "            print('Epoch:', '%04d' % (epoch + 1), 'cost =', '{:.6f}'.format(loss))\n",
    "\n",
    "        loss.backward()\n",
    "        optimizer.step()\n",
    "    \n",
    "    for i, label in enumerate(word_list):\n",
    "        W, WT = model.parameters()\n",
    "        x, y = W[0][i].item(), W[1][i].item()\n",
    "        plt.scatter(x, y)\n",
    "        plt.annotate(label, xy=(x, y), xytext=(5, 2), textcoords='offset points', ha='right', va='bottom')\n",
    "    plt.show()"
   ]
  }
 ],
 "metadata": {
  "kernelspec": {
   "display_name": "base",
   "language": "python",
   "name": "python3"
  },
  "language_info": {
   "codemirror_mode": {
    "name": "ipython",
    "version": 3
   },
   "file_extension": ".py",
   "mimetype": "text/x-python",
   "name": "python",
   "nbconvert_exporter": "python",
   "pygments_lexer": "ipython3",
   "version": "3.12.2"
  }
 },
 "nbformat": 4,
 "nbformat_minor": 2
}
