{
 "cells": [
  {
   "cell_type": "code",
   "execution_count": 9,
   "metadata": {},
   "outputs": [],
   "source": [
    "import numpy as np\n",
    "import torch\n",
    "import torch.nn as nn\n",
    "import torch.optim as optim\n",
    "device = torch.device('mps')"
   ]
  },
  {
   "cell_type": "code",
   "execution_count": 10,
   "metadata": {},
   "outputs": [],
   "source": [
    "def make_batch():\n",
    "    input_batch = []\n",
    "    target_batch = []\n",
    "\n",
    "    for sen in sentences:\n",
    "        word = sen.split()  # space tokenizer\n",
    "        input = [word_dict[n] for n in word[:-1]]  # create (1~n-1) as input\n",
    "        target = word_dict[word[-1]]  # create (n) as target, We usually call this 'casual language model'\n",
    "\n",
    "        input_batch.append(np.eye(n_class)[input])\n",
    "        target_batch.append(target)\n",
    "\n",
    "    return input_batch, target_batch"
   ]
  },
  {
   "cell_type": "code",
   "execution_count": 17,
   "metadata": {},
   "outputs": [],
   "source": [
    "class TextRNN(nn.Module):\n",
    "    def __init__(self):\n",
    "        super(TextRNN, self).__init__()\n",
    "        self.rnn = nn.RNN(input_size=n_class, hidden_size=n_hidden).to(device)\n",
    "        self.W = nn.Linear(n_hidden, n_class, bias=False).to(device)\n",
    "        self.b = nn.Parameter(torch.ones([n_class])).to(device)\n",
    "\n",
    "    def forward(self, hidden, X): # X [3, 2, 7], hidden [1, 3, 5]\n",
    "        X = X.transpose(0, 1).to(device) # X [2, 3, 7]\n",
    "        outputs, hidden = self.rnn(X, hidden) # outputs [2, 3, 5], hidden [1, 3, 5]\n",
    "        outputs = outputs[-1] # outputs [3, 5]\n",
    "        model = self.W(outputs) + self.b # model [3, 7]\n",
    "        return model"
   ]
  },
  {
   "cell_type": "code",
   "execution_count": 24,
   "metadata": {},
   "outputs": [
    {
     "name": "stdout",
     "output_type": "stream",
     "text": [
      "Epoch: 1000 cost = 0.084289\n",
      "Epoch: 2000 cost = 0.019321\n",
      "Epoch: 3000 cost = 0.007951\n",
      "Epoch: 4000 cost = 0.003965\n",
      "Epoch: 5000 cost = 0.002160\n",
      "[['i', 'like'], ['i', 'love'], ['i', 'hate']] -> ['dog', 'coffee', 'milk']\n"
     ]
    }
   ],
   "source": [
    "if __name__ == '__main__':\n",
    "    n_step = 2\n",
    "    n_hidden = 5\n",
    "\n",
    "    sentences = [\"i like dog\", \"i love coffee\", \"i hate milk\"]\n",
    "\n",
    "    word_list = \" \".join(sentences).split()\n",
    "    word_list = list(set(word_list))\n",
    "    word_dict = {w: i for i, w in enumerate(word_list)}\n",
    "    number_dict = {i: w for i, w in enumerate(word_list)}\n",
    "    n_class = len(word_dict)\n",
    "    batch_size = len(sentences)\n",
    "\n",
    "    model = TextRNN()\n",
    "\n",
    "    criterion = nn.CrossEntropyLoss().to(device)\n",
    "    optimizer = optim.Adam(model.parameters(), lr=0.001)\n",
    "\n",
    "    input_batch, target_bath = make_batch()\n",
    "    input_batch = torch.FloatTensor(input_batch).to(device)\n",
    "    target_batch = torch.LongTensor(target_bath).to(device)\n",
    "\n",
    "    # Training\n",
    "    for epoch in range(5000):\n",
    "        optimizer.zero_grad()\n",
    "\n",
    "        hidden = torch.zeros(1, batch_size, n_hidden).to(device)\n",
    "        output = model(hidden, input_batch) # output : [3, 7]\n",
    "\n",
    "        loss = criterion(output, target_batch).to(device) # target_batch : [3]\n",
    "        if (epoch + 1) % 1000 == 0:\n",
    "            print('Epoch:', '%04d' % (epoch + 1), 'cost =', '{:.6f}'.format(loss))\n",
    "        \n",
    "        loss.backward()\n",
    "        optimizer.step()\n",
    "    \n",
    "    input = [sen.split()[:2] for sen in sentences]\n",
    "\n",
    "    # Predict\n",
    "    hidden = torch.zeros(1, batch_size, n_hidden).to(device)\n",
    "    predict = model(hidden, input_batch).data.max(1, keepdim=True)[1]\n",
    "    print([sen.split()[:2] for sen in sentences], '->', [number_dict[n.item()] for n in predict.squeeze()])\n",
    "        "
   ]
  }
 ],
 "metadata": {
  "kernelspec": {
   "display_name": "base",
   "language": "python",
   "name": "python3"
  },
  "language_info": {
   "codemirror_mode": {
    "name": "ipython",
    "version": 3
   },
   "file_extension": ".py",
   "mimetype": "text/x-python",
   "name": "python",
   "nbconvert_exporter": "python",
   "pygments_lexer": "ipython3",
   "version": "3.12.2"
  }
 },
 "nbformat": 4,
 "nbformat_minor": 2
}
