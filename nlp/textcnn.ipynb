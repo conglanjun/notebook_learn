{
 "cells": [
  {
   "cell_type": "code",
   "execution_count": 3,
   "metadata": {},
   "outputs": [],
   "source": [
    "import numpy as np\n",
    "import torch\n",
    "import torch.nn as nn\n",
    "import torch.optim as optim\n",
    "import torch.nn.functional as F"
   ]
  },
  {
   "cell_type": "code",
   "execution_count": 4,
   "metadata": {},
   "outputs": [],
   "source": [
    "class TextCNN(nn.Module):\n",
    "    def __init__(self):\n",
    "        super(TextCNN, self).__init__()\n",
    "        self.num_filters_total = num_filters * len(filter_sizes)\n",
    "        self.W = nn.Embedding(vocab_size, embedding_size)\n",
    "        self.Weight = nn.Linear(self.num_filters_total, num_classes, bias=False)\n",
    "        self.Bias = nn.Parameter(torch.ones([num_classes]))\n",
    "        self.filter_list = nn.ModuleList([nn.Conv2d(1, num_filters, (size, embedding_size)) for size in filter_sizes])\n",
    "    \n",
    "    def forward(self, X):\n",
    "        embedded_chars = self.W(X) # [6, 3, 2]\n",
    "        embedded_chars = embedded_chars.unsqueeze(1) # [6, 1, 3, 2]\n",
    "        \n",
    "        pooled_outputs = []\n",
    "        for i, conv in enumerate(self.filter_list):\n",
    "            h = F.relu(conv(embedded_chars)) # [6, 3, 2, 1]\n",
    "            mp = nn.MaxPool2d((sequence_length - filter_sizes[i] + 1, 1))\n",
    "            pooled = mp(h).permute(0, 3, 2, 1) # [6, 1, 1, 3]\n",
    "            pooled_outputs.append(pooled)\n",
    "        \n",
    "        h_pool = torch.cat(pooled_outputs, len(filter_sizes)) # [6, 1, 1, 9]\n",
    "        h_pool_flat = torch.reshape(h_pool, [-1, self.num_filters_total]) # [6, 9]\n",
    "        model = self.Weight(h_pool_flat) + self.Bias # [6, 2]\n",
    "        return model"
   ]
  },
  {
   "cell_type": "code",
   "execution_count": 6,
   "metadata": {},
   "outputs": [
    {
     "name": "stdout",
     "output_type": "stream",
     "text": [
      "Epoch: 1000 cost = 0.003117\n",
      "Epoch: 2000 cost = 0.000542\n",
      "Epoch: 3000 cost = 0.000180\n",
      "Epoch: 4000 cost = 0.000076\n",
      "Epoch: 5000 cost = 0.000037\n"
     ]
    },
    {
     "name": "stderr",
     "output_type": "stream",
     "text": [
      "/var/folders/ng/bdctlwn95r12z3l97qgygpkh0000gp/T/ipykernel_5441/1556723114.py:38: RuntimeWarning: assigning None to unbound local 'n'\n",
      "  tests = [np.asarray([word_dict[n] for n in test_text.split()])]\n",
      "/var/folders/ng/bdctlwn95r12z3l97qgygpkh0000gp/T/ipykernel_5441/1556723114.py:38: RuntimeWarning: assigning None to unbound local 'n'\n",
      "  tests = [np.asarray([word_dict[n] for n in test_text.split()])]\n",
      "/var/folders/ng/bdctlwn95r12z3l97qgygpkh0000gp/T/ipykernel_5441/1556723114.py:38: RuntimeWarning: assigning None to unbound local 'n'\n",
      "  tests = [np.asarray([word_dict[n] for n in test_text.split()])]\n"
     ]
    },
    {
     "name": "stdout",
     "output_type": "stream",
     "text": [
      "sorry hate you is Bad Mean...\n"
     ]
    }
   ],
   "source": [
    "if __name__ == '__main__':\n",
    "    embedding_size = 2\n",
    "    sequence_length = 3\n",
    "    num_classes = 2\n",
    "    filter_sizes = [2, 2, 2]\n",
    "    num_filters = 3\n",
    "\n",
    "    sentences = [\"i love you\", \"he loves me\", \"she likes baseball\", \"i hate you\", \"sorry for that\", \"this is awful\"]\n",
    "    labels = [1, 1, 1, 0, 0, 0]# 1 is good, 0 is not good.\n",
    "\n",
    "    word_list = \" \".join(sentences).split()\n",
    "    word_list = list(set(word_list))\n",
    "    word_dict = {w: i for i, w in enumerate(word_list)}\n",
    "    vocab_size = len(word_dict)\n",
    "\n",
    "    model = TextCNN()\n",
    "\n",
    "    criterion = nn.CrossEntropyLoss()\n",
    "    optimizer = optim.Adam(model.parameters(), lr=0.001)\n",
    "\n",
    "    inputs = torch.LongTensor([np.asarray([word_dict[n] for n in sen.split()]) for sen in sentences]) # [6, 3]\n",
    "    targets = torch.LongTensor([out for out in labels]) # [6]\n",
    "\n",
    "    #Training\n",
    "    for epoch in range(5000):\n",
    "        optimizer.zero_grad()\n",
    "        output = model(inputs)\n",
    "\n",
    "        # output : [batch_size, num_classes], target_batch : [batch_size] (LongTensor, not one-hot)\n",
    "        loss = criterion(output, targets)\n",
    "        if (epoch + 1) % 1000 == 0:\n",
    "            print('Epoch:', '%04d' % (epoch + 1), 'cost =', '{:.6f}'.format(loss))\n",
    "\n",
    "        loss.backward()\n",
    "        optimizer.step()\n",
    "    #Test\n",
    "    test_text ='sorry hate you'\n",
    "    tests = [np.asarray([word_dict[n] for n in test_text.split()])]\n",
    "    test_batch = torch.LongTensor(tests)\n",
    "\n",
    "    #Predict\n",
    "    predict = model(test_batch).data.max(1, keepdim=True)[1]\n",
    "    if predict[0][0] == 0:\n",
    "        print(test_text,\"is Bad Mean...\")\n",
    "    else:\n",
    "        print(test_text,\"is Good Mean!!\")\n",
    "\n",
    "    "
   ]
  }
 ],
 "metadata": {
  "kernelspec": {
   "display_name": "base",
   "language": "python",
   "name": "python3"
  },
  "language_info": {
   "codemirror_mode": {
    "name": "ipython",
    "version": 3
   },
   "file_extension": ".py",
   "mimetype": "text/x-python",
   "name": "python",
   "nbconvert_exporter": "python",
   "pygments_lexer": "ipython3",
   "version": "3.12.2"
  }
 },
 "nbformat": 4,
 "nbformat_minor": 2
}
